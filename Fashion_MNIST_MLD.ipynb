{
 "cells": [
  {
   "cell_type": "code",
   "execution_count": 1,
   "metadata": {},
   "outputs": [
    {
     "name": "stdout",
     "output_type": "stream",
     "text": [
      "Training set has 60000 instances\n",
      "Validation set has 10000 instances\n"
     ]
    }
   ],
   "source": [
    "import torch\n",
    "import torchvision\n",
    "import torchvision.transforms as transforms\n",
    "\n",
    "# PyTorch TensorBoard support\n",
    "from torch.utils.tensorboard import SummaryWriter\n",
    "from datetime import datetime\n",
    "\n",
    "\n",
    "transform = transforms.Compose(\n",
    "    [transforms.ToTensor(),\n",
    "    transforms.Normalize((0.5,), (0.5,))])\n",
    "\n",
    "# Create datasets for training & validation, download if necessary\n",
    "training_set = torchvision.datasets.FashionMNIST('./data', train=True, transform=transform, download=True)\n",
    "validation_set = torchvision.datasets.FashionMNIST('./data', train=False, transform=transform, download=True)\n",
    "\n",
    "BATCH_SIZE = 1000\n",
    "\n",
    "# Create data loaders for our datasets; shuffle for training, not for validation\n",
    "training_loader = torch.utils.data.DataLoader(training_set, batch_size=BATCH_SIZE, shuffle=True, num_workers=0)\n",
    "validation_loader = torch.utils.data.DataLoader(validation_set, batch_size=BATCH_SIZE, shuffle=False, num_workers=0)\n",
    "\n",
    "# Class labels\n",
    "classes = ('T-shirt/top', 'Trouser', 'Pullover', 'Dress', 'Coat',\n",
    "        'Sandal', 'Shirt', 'Sneaker', 'Bag', 'Ankle Boot')\n",
    "\n",
    "# Report split sizes\n",
    "print('Training set has {} instances'.format(len(training_set)))\n",
    "print('Validation set has {} instances'.format(len(validation_set)))"
   ]
  },
  {
   "cell_type": "code",
   "execution_count": 2,
   "metadata": {},
   "outputs": [
    {
     "name": "stdout",
     "output_type": "stream",
     "text": [
      "Sandal  T-shirt/top  Dress  T-shirt/top  Sneaker  Bag  Shirt  Coat  Coat  Shirt  Trouser  Trouser  Bag  Ankle Boot  Ankle Boot  Pullover  Pullover  Dress  Trouser  Pullover  Coat  Sandal  Trouser  Shirt  Coat  Sneaker  Bag  Bag  Dress  Coat  Sandal  Trouser  Shirt  Pullover  Dress  Pullover  Coat  Shirt  Ankle Boot  Ankle Boot  Coat  Trouser  Bag  Bag  Sneaker  Sneaker  Pullover  Coat  T-shirt/top  Sneaker  Sandal  Bag  Pullover  Bag  Trouser  T-shirt/top  Sneaker  Sandal  Trouser  T-shirt/top  Bag  Dress  Dress  T-shirt/top  Coat  Dress  Trouser  Sandal  Pullover  Coat  Pullover  Ankle Boot  Trouser  Ankle Boot  Shirt  Pullover  Coat  T-shirt/top  Coat  Sneaker  Dress  Shirt  Coat  Bag  Shirt  Sandal  T-shirt/top  Pullover  Coat  Shirt  Trouser  Ankle Boot  Dress  Trouser  Coat  Coat  Shirt  Sneaker  Trouser  Sandal  Sneaker  Ankle Boot  Sneaker  Trouser  Coat  Bag  Dress  Pullover  Ankle Boot  Shirt  Shirt  Bag  Ankle Boot  Trouser  Sandal  Pullover  T-shirt/top  T-shirt/top  Sneaker  Shirt  Trouser  Dress  Coat  Coat  Dress  Coat  Dress  Bag  Shirt  Bag  Sandal  Sneaker  Trouser  Shirt  Bag  Sandal  Bag  Shirt  Ankle Boot  Sneaker  T-shirt/top  Shirt  Coat  Bag  Pullover  Sneaker  T-shirt/top  Sneaker  Pullover  Dress  Dress  Pullover  Pullover  Bag  Pullover  Ankle Boot  Bag  Coat  Dress  Coat  Bag  Pullover  T-shirt/top  Coat  T-shirt/top  Pullover  T-shirt/top  Coat  Ankle Boot  Ankle Boot  Bag  Dress  Pullover  Sneaker  Sandal  Pullover  Shirt  Bag  Dress  Dress  Coat  Shirt  Ankle Boot  Pullover  Pullover  Shirt  Ankle Boot  Coat  Shirt  Dress  Sandal  Ankle Boot  Sneaker  Coat  Coat  Sneaker  Trouser  Bag  Ankle Boot  Trouser  Bag  Dress  Trouser  Dress  Sneaker  Coat  Sandal  Sandal  Coat  Bag  Shirt  Shirt  Trouser  Ankle Boot  Bag  Sneaker  Dress  Trouser  Dress  T-shirt/top  Pullover  Coat  Trouser  Bag  Sandal  Dress  Coat  Pullover  Sneaker  Shirt  Shirt  Bag  Bag  Shirt  Coat  T-shirt/top  Shirt  Bag  Pullover  Shirt  Sneaker  T-shirt/top  Trouser  Shirt  T-shirt/top  Bag  T-shirt/top  Ankle Boot  Trouser  Trouser  Coat  Shirt  T-shirt/top  T-shirt/top  Trouser  T-shirt/top  Sneaker  T-shirt/top  Coat  Ankle Boot  Coat  T-shirt/top  Ankle Boot  Shirt  Coat  Bag  Pullover  Pullover  Coat  Bag  Bag  Ankle Boot  T-shirt/top  Dress  Sandal  Coat  Shirt  T-shirt/top  Coat  Trouser  T-shirt/top  Bag  Bag  Shirt  Dress  Coat  Shirt  Trouser  Bag  Dress  Ankle Boot  Bag  Pullover  Ankle Boot  Shirt  Coat  Bag  T-shirt/top  Coat  Bag  Shirt  Sandal  Dress  T-shirt/top  Pullover  Sneaker  Pullover  Coat  Ankle Boot  Ankle Boot  Coat  Coat  Pullover  Trouser  Pullover  Coat  Ankle Boot  Dress  Trouser  Sandal  Shirt  Pullover  Shirt  Sneaker  Sneaker  Pullover  Shirt  T-shirt/top  Coat  Shirt  Sandal  Sneaker  Ankle Boot  Trouser  Shirt  Trouser  Shirt  Sneaker  Bag  Sneaker  Trouser  Bag  Dress  Sandal  Sneaker  Sandal  Trouser  Bag  Dress  Ankle Boot  Shirt  Ankle Boot  Coat  Pullover  Sandal  Shirt  Trouser  Trouser  Shirt  Dress  Shirt  Ankle Boot  T-shirt/top  Shirt  Coat  Pullover  Ankle Boot  Coat  Shirt  Bag  Coat  Sandal  Dress  Sandal  Dress  Ankle Boot  Sandal  Pullover  Sandal  Bag  Shirt  T-shirt/top  Coat  Trouser  T-shirt/top  T-shirt/top  Coat  Trouser  Shirt  Shirt  Dress  Trouser  T-shirt/top  Sandal  Bag  Sandal  Shirt  Shirt  Trouser  Bag  T-shirt/top  Coat  Pullover  Pullover  Coat  Coat  T-shirt/top  Pullover  Shirt  Shirt  Trouser  Sandal  T-shirt/top  T-shirt/top  Ankle Boot  Sneaker  Dress  Sandal  Sneaker  T-shirt/top  T-shirt/top  T-shirt/top  Sandal  Sandal  Pullover  Pullover  Sneaker  Pullover  Pullover  Ankle Boot  Trouser  Trouser  Trouser  Bag  Dress  Coat  Trouser  T-shirt/top  Coat  Ankle Boot  Pullover  Pullover  Trouser  Trouser  T-shirt/top  Shirt  Shirt  Bag  Sneaker  Pullover  T-shirt/top  Coat  Ankle Boot  Ankle Boot  Sandal  Bag  Ankle Boot  Pullover  T-shirt/top  Sandal  Ankle Boot  Sneaker  Dress  T-shirt/top  Sandal  Trouser  Dress  Trouser  Sneaker  Shirt  Coat  Sandal  Dress  T-shirt/top  Coat  Trouser  Dress  Shirt  Coat  T-shirt/top  Pullover  Sandal  Shirt  Shirt  Shirt  Dress  Pullover  T-shirt/top  T-shirt/top  Ankle Boot  Pullover  T-shirt/top  Dress  Coat  Trouser  Shirt  Trouser  Dress  Sandal  Shirt  Sandal  Ankle Boot  Trouser  T-shirt/top  Sandal  Sneaker  Bag  Coat  Dress  Sneaker  Pullover  Bag  Bag  Sandal  Sneaker  Dress  Sneaker  Trouser  Sandal  Sandal  Shirt  Bag  Ankle Boot  Sandal  Pullover  Ankle Boot  Sandal  Trouser  Sandal  Sneaker  Sandal  Dress  Trouser  Bag  Bag  Dress  Sneaker  Ankle Boot  Trouser  Sandal  Bag  Trouser  Sandal  Coat  Sneaker  Shirt  Bag  Bag  Ankle Boot  Shirt  Ankle Boot  Ankle Boot  Dress  Sneaker  Coat  Dress  Shirt  Shirt  Bag  Trouser  Sneaker  Ankle Boot  Ankle Boot  Sandal  Shirt  Shirt  Ankle Boot  Dress  Pullover  Coat  Shirt  Ankle Boot  Shirt  Sneaker  Shirt  Ankle Boot  Ankle Boot  Trouser  Trouser  Trouser  Sandal  Bag  Pullover  Ankle Boot  Bag  T-shirt/top  Trouser  Sandal  Ankle Boot  Coat  Ankle Boot  Trouser  Dress  Dress  Trouser  Trouser  Dress  Ankle Boot  Sandal  Bag  Trouser  Trouser  T-shirt/top  Sandal  Sneaker  Ankle Boot  T-shirt/top  Trouser  Ankle Boot  T-shirt/top  Sandal  Sandal  Dress  Shirt  Shirt  Bag  Dress  Pullover  Dress  T-shirt/top  Dress  Ankle Boot  Trouser  Pullover  Trouser  Bag  Sandal  Shirt  Trouser  Pullover  Coat  Shirt  Sneaker  Shirt  Dress  Trouser  Sneaker  Coat  Trouser  Dress  Pullover  T-shirt/top  Bag  Shirt  T-shirt/top  Sneaker  Sneaker  Trouser  Sneaker  Dress  Coat  T-shirt/top  Dress  T-shirt/top  Coat  Pullover  Coat  T-shirt/top  Coat  Bag  Coat  Sneaker  Sneaker  Sneaker  Pullover  Shirt  Sandal  Sandal  Sneaker  Shirt  T-shirt/top  Coat  Coat  Bag  Dress  Coat  Pullover  Bag  Sandal  Trouser  Trouser  Shirt  Dress  Pullover  Bag  Ankle Boot  Pullover  Pullover  Sandal  T-shirt/top  Shirt  Bag  Dress  T-shirt/top  Shirt  Coat  Bag  Coat  Shirt  Bag  Sneaker  Coat  Ankle Boot  T-shirt/top  Ankle Boot  Bag  Trouser  T-shirt/top  Sandal  Sneaker  Trouser  Dress  T-shirt/top  Bag  Pullover  Sneaker  Pullover  Bag  Pullover  Pullover  Trouser  Dress  Sandal  Dress  Dress  Trouser  Sandal  Ankle Boot  Sandal  T-shirt/top  Dress  Sneaker  Ankle Boot  Dress  Dress  Shirt  Sandal  Shirt  Dress  Bag  Shirt  Trouser  Pullover  Bag  Coat  Coat  Ankle Boot  Bag  Sneaker  Dress  Coat  Trouser  Sandal  T-shirt/top  Shirt  Coat  Coat  Bag  Bag  Coat  Ankle Boot  Sneaker  Pullover  Sneaker  Shirt  Shirt  Sneaker  Ankle Boot  Shirt  Shirt  Coat  Bag  Shirt  Trouser  Dress  Shirt  Shirt  T-shirt/top  Sandal  Dress  Shirt  Bag  Sneaker  Pullover  Dress  Bag  Dress  Coat  T-shirt/top  Ankle Boot  Shirt  Bag  Dress  Coat  Coat  Pullover  Bag  Coat  Sneaker  Sneaker  Ankle Boot  Ankle Boot  Dress  T-shirt/top  Dress  Dress  Ankle Boot  Sneaker  Bag  Sandal  Trouser  Sneaker  Dress  Coat  Bag  Sneaker  Coat  Pullover  Trouser  Bag  T-shirt/top  Dress  Bag  Ankle Boot  Bag  Sandal  Sandal  Sneaker  Sneaker  Ankle Boot  Sandal  Coat  Dress  Pullover  Dress  T-shirt/top  Ankle Boot  Pullover  Pullover  Sandal  Shirt  T-shirt/top  Coat  T-shirt/top  Bag  Pullover  Shirt  T-shirt/top  Sneaker  Sneaker  Shirt  Dress  Coat  Shirt  Trouser  Coat  T-shirt/top  Pullover  Sandal  Coat  T-shirt/top  Sneaker  Sneaker  Sneaker  Coat  Ankle Boot  Ankle Boot  Sandal  Shirt  Sneaker  Trouser  Ankle Boot  T-shirt/top  Sneaker  Pullover  Dress  Ankle Boot  Bag  Shirt  Sneaker  Sandal  Dress  Ankle Boot  Ankle Boot  Shirt  Coat  Sandal  Sandal  Sandal  Bag  Pullover  Coat  Shirt  Coat  Ankle Boot  Bag  Bag  T-shirt/top  T-shirt/top  Bag  Sandal  Shirt  Shirt  Dress  Sandal  Coat  T-shirt/top  Shirt  Trouser  Ankle Boot  Bag  Pullover  Pullover  T-shirt/top  Dress  Coat  Pullover  Pullover  Shirt  Shirt  Sneaker  Sneaker  Bag  Sandal  Bag  Shirt  Pullover  Shirt  Shirt  Shirt  Sneaker  Sandal  Ankle Boot  Trouser  Sneaker  Sneaker  T-shirt/top  Sandal  Sneaker  Pullover  Dress  Trouser  Sandal  Sneaker  Coat  Coat  Coat  Bag  Pullover  Shirt  Bag  Coat  Dress  Sneaker  Pullover  Shirt  Pullover  Trouser  Dress  Bag  Pullover  Coat  Shirt  Sneaker  Ankle Boot  Pullover  Sandal  Trouser  Shirt  Bag  Coat  Dress  T-shirt/top  Pullover  Sandal  Shirt  Bag  Ankle Boot  Trouser  Pullover  T-shirt/top  Coat  Sneaker  Dress  Sandal  Dress  Coat  Sneaker  Dress  Coat  Shirt  Sneaker  Pullover  Bag  Sandal  Shirt  Bag  Ankle Boot  Bag  Ankle Boot\n"
     ]
    },
    {
     "data": {
      "image/png": "[encoded data removed]",
      "text/plain": [
       "<Figure size 432x288 with 1 Axes>"
      ]
     },
     "metadata": {
      "needs_background": "light"
     },
     "output_type": "display_data"
    }
   ],
   "source": [
    "import matplotlib.pyplot as plt\n",
    "import numpy as np\n",
    "\n",
    "# Helper function for inline image display\n",
    "def matplotlib_imshow(img, one_channel=False):\n",
    "    if one_channel:\n",
    "        img = img.mean(dim=0)\n",
    "    img = img / 2 + 0.5     # unnormalize\n",
    "    npimg = img.numpy()\n",
    "    if one_channel:\n",
    "        plt.imshow(npimg, cmap=\"Greys\")\n",
    "    else:\n",
    "        plt.imshow(np.transpose(npimg, (1, 2, 0)))\n",
    "\n",
    "dataiter = iter(training_loader)\n",
    "images, labels = dataiter.next()\n",
    "\n",
    "# Create a grid from the images and show them\n",
    "img_grid = torchvision.utils.make_grid(images)\n",
    "matplotlib_imshow(img_grid, one_channel=True)\n",
    "print('  '.join(classes[labels[j]] for j in range(BATCH_SIZE)))"
   ]
  },
  {
   "cell_type": "code",
   "execution_count": 3,
   "metadata": {},
   "outputs": [
    {
     "name": "stdout",
     "output_type": "stream",
     "text": [
      "Classifier(\n",
      "  (conv1): Conv2d(1, 32, kernel_size=(3, 3), stride=(1, 1))\n",
      "  (relu1): ReLU()\n",
      "  (maxpool1): MaxPool2d(kernel_size=(2, 2), stride=(2, 2), padding=0, dilation=1, ceil_mode=False)\n",
      "  (conv2): Conv2d(32, 64, kernel_size=(3, 3), stride=(1, 1))\n",
      "  (relu2): ReLU()\n",
      "  (maxpool2): MaxPool2d(kernel_size=(2, 2), stride=(2, 2), padding=0, dilation=1, ceil_mode=False)\n",
      "  (fc1): Linear(in_features=1600, out_features=800, bias=True)\n",
      "  (relu3): ReLU()\n",
      "  (fc2): Linear(in_features=800, out_features=10, bias=True)\n",
      ")\n"
     ]
    }
   ],
   "source": [
    "import torch.nn as nn\n",
    "import torch.nn.functional as F\n",
    "\n",
    "# PyTorch models inherit from torch.nn.Module\n",
    "class Classifier(nn.Module):\n",
    "    def __init__(self):\n",
    "        super(Classifier, self).__init__()\n",
    "        self.conv1 = nn.Conv2d(in_channels=1, out_channels=32, kernel_size=(3, 3))\n",
    "        self.relu1 = nn.ReLU()\n",
    "        self.maxpool1 = nn.MaxPool2d(kernel_size=(2, 2))\n",
    "\n",
    "        self.conv2 = nn.Conv2d(in_channels=32, out_channels=64, kernel_size=(3, 3))\n",
    "        self.relu2 = nn.ReLU()\n",
    "        self.maxpool2 = nn.MaxPool2d(kernel_size=(2, 2))\n",
    "\n",
    "        # intialize set of fc => ReLU layer\n",
    "        self.fc1 = nn.Linear(in_features=1600, out_features=800)\n",
    "        self.relu3 = nn.ReLU()\n",
    "        # initialize LogSoftMaxClassifier\n",
    "        self.fc2 = nn.Linear(in_features=800, out_features=10)\n",
    "        # self.softMax = nn.Softmax(dim=0)\n",
    "\n",
    "\n",
    "    def forward(self, x):\n",
    "        # pass to the first set of CONV=>RELU=>POOL layers\n",
    "        x = self.conv1(x)\n",
    "        x = self.relu1(x)\n",
    "        x = self.maxpool1(x)\n",
    "\n",
    "        # pass to the first set of CONV=>RELU=>POOL layers\n",
    "        x = self.conv2(x)\n",
    "        x = self.relu2(x)\n",
    "        x = self.maxpool2(x)\n",
    "        \n",
    "        # flatten and pass it to the fc => RELU layers\n",
    "        x = torch.flatten(x, start_dim=1)\n",
    "        x = self.fc1(x)\n",
    "        x = self.relu3(x)\n",
    "        # pass it to the classifier to get our prediction\n",
    "        x = self.fc2(x)\n",
    "        # output = self.softMax(x) // Using the nn.CrossEntropyLoss, we mustn't use the softmax\n",
    "        # the softmax is embedded in the CrossEntropLoss function\n",
    "        output = x\n",
    "        return output\n",
    "\n",
    "\n",
    "model = Classifier()\n",
    "print(model)"
   ]
  },
  {
   "cell_type": "code",
   "execution_count": 4,
   "metadata": {},
   "outputs": [],
   "source": [
    "timestamp = datetime.now().strftime('%Y%m%d_%H%M%S')\n",
    "writer = SummaryWriter('runs/fashion_trainer_{}'.format(timestamp))"
   ]
  },
  {
   "cell_type": "code",
   "execution_count": 5,
   "metadata": {},
   "outputs": [],
   "source": [
    "import tensorflow as tf\n",
    "import tensorboard as tb\n",
    "tf.io.gfile = tb.compat.tensorflow_stub.io.gfile\n",
    "\n",
    "# helper function\n",
    "def select_n_random(data, labels, n=100):\n",
    "    '''\n",
    "    Selects n random datapoints and their corresponding labels from a dataset\n",
    "    '''\n",
    "    assert len(data) == len(labels)\n",
    "\n",
    "    perm = torch.randperm(len(data))\n",
    "    return data[perm][:n], labels[perm][:n]\n",
    "\n",
    "# select random images and their target indices\n",
    "images, labels = select_n_random(training_set.data, training_set.targets)\n",
    "\n",
    "# get the class labels for each image\n",
    "class_labels = [classes[lab] for lab in labels]\n",
    "\n",
    "# log embeddings\n",
    "features = images.view(-1, 28 * 28)\n",
    "writer.add_embedding(features,\n",
    "                    metadata=class_labels,\n",
    "                    label_img=images.unsqueeze(1))\n",
    "#writer.close()"
   ]
  },
  {
   "cell_type": "code",
   "execution_count": 6,
   "metadata": {},
   "outputs": [],
   "source": [
    "# helper functions\n",
    "\n",
    "def images_to_probs(model, images):\n",
    "    '''\n",
    "    Generates predictions and corresponding probabilities from a trained\n",
    "    network and a list of images\n",
    "    '''\n",
    "    output = model(images)\n",
    "    # convert output probabilities to predicted class\n",
    "    _, preds_tensor = torch.max(output, 1)\n",
    "    preds = np.squeeze(preds_tensor.numpy())\n",
    "    return preds, [F.softmax(el, dim=0)[i].item() for i, el in zip(preds, output)]\n",
    "\n",
    "\n",
    "def plot_classes_preds(model, images, labels):\n",
    "    '''\n",
    "    Generates matplotlib Figure using a trained network, along with images\n",
    "    and labels from a batch, that shows the network's top prediction along\n",
    "    with its probability, alongside the actual label, coloring this\n",
    "    information based on whether the prediction was correct or not.\n",
    "    Uses the \"images_to_probs\" function.\n",
    "    '''\n",
    "    preds, probs = images_to_probs(model, images)\n",
    "    # plot the images in the batch, along with predicted and true labels\n",
    "    fig = plt.figure(figsize=(12, 48))\n",
    "    for idx in np.arange(4):\n",
    "        ax = fig.add_subplot(1, 4, idx+1, xticks=[], yticks=[])\n",
    "        matplotlib_imshow(images[idx], one_channel=True)\n",
    "        ax.set_title(\"{0}, {1:.1f}%\\n(label: {2})\".format(\n",
    "            classes[preds[idx]],\n",
    "            probs[idx] * 100.0,\n",
    "            classes[labels[idx]]),\n",
    "                    color=(\"green\" if preds[idx]==labels[idx].item() else \"red\"))\n",
    "    return fig"
   ]
  },
  {
   "cell_type": "code",
   "execution_count": 7,
   "metadata": {},
   "outputs": [],
   "source": [
    "# Loss Function\n",
    "loss_fn = torch.nn.CrossEntropyLoss()\n",
    "\n",
    "# Optimizers specified in the torch.optim package\n",
    "optimizer = torch.optim.Adam(model.parameters())"
   ]
  },
  {
   "cell_type": "code",
   "execution_count": 8,
   "metadata": {},
   "outputs": [],
   "source": [
    "def train_one_epoch(epoch_index, tb_writer, epoch):\n",
    "    running_loss = 0.\n",
    "    last_loss = 0.\n",
    "\n",
    "    # Here, we use enumerate(training_loader) instead of\n",
    "    # iter(training_loader) so that we can track the batch\n",
    "    # index and do some intra-epoch reporting\n",
    "\n",
    "    for i, data in enumerate(training_loader):\n",
    "        # Every data instance is an input + label pair\n",
    "        inputs, labels = data\n",
    "\n",
    "        # Zero your gradients for every batch!\n",
    "        optimizer.zero_grad()\n",
    "\n",
    "        # Make predictions for this batch\n",
    "        outputs = model(inputs)#.reshape([1, 10])\n",
    "\n",
    "        # Compute the loss and its gradients\n",
    "        loss = loss_fn(outputs, labels)\n",
    "        loss.backward()\n",
    "\n",
    "        # Adjust learning weights\n",
    "        optimizer.step()\n",
    "\n",
    "        # Gather data and report\n",
    "        running_loss += loss.item()\n",
    "        \n",
    "        # if i % 60 == 59:\n",
    "        #     last_loss = running_loss / 1000 # loss per batch\n",
    "        #     print('  batch {} loss: {}'.format(i + 1, last_loss))\n",
    "        #     tb_x = epoch_index * len(training_loader) + i + 1\n",
    "        #     tb_writer.add_scalar('Loss/train', last_loss, tb_x)\n",
    "        #     running_loss = 0.\n",
    "        \n",
    "        # ...log the running loss\n",
    "        writer.add_scalar('training loss',\n",
    "                        running_loss / BATCH_SIZE, # loss per batch\n",
    "                        epoch * len(training_loader) + i)\n",
    "\n",
    "        # ...log a Matplotlib Figure showing the model's predictions on a\n",
    "        # random mini-batch\n",
    "        writer.add_figure('predictions vs. actuals',\n",
    "                        plot_classes_preds(model, inputs, labels),\n",
    "                        global_step=epoch * len(training_loader) + i)\n",
    "\n",
    "    return last_loss"
   ]
  },
  {
   "cell_type": "code",
   "execution_count": 9,
   "metadata": {},
   "outputs": [
    {
     "name": "stdout",
     "output_type": "stream",
     "text": [
      "EPOCH 1:\n",
      "LOSS train 0.0 valid 0.499167263507843\n",
      "EPOCH 2:\n",
      "LOSS train 0.0 valid 0.4209632873535156\n",
      "EPOCH 3:\n"
     ]
    },
    {
     "ename": "",
     "evalue": "",
     "output_type": "error",
     "traceback": [
      "\u001b[1;31mÉchec du redémarrage du noyau. \n",
      "No debugger available, can not send 'disconnect'. \n",
      "Pour plus d’informations, consultez Jupyter <a href='command:jupyter.viewOutput'>log</a>."
     ]
    }
   ],
   "source": [
    "# Initializing in a separate cell so we can easily add more epochs to the same run\n",
    "\n",
    "epoch_number = 0\n",
    "EPOCHS = 5\n",
    "\n",
    "best_vloss = 1_000_000.\n",
    "\n",
    "for epoch in range(EPOCHS):\n",
    "    print('EPOCH {}:'.format(epoch_number + 1))\n",
    "\n",
    "    # Make sure gradient tracking is on, and do a pass over the data\n",
    "    model.train(True)\n",
    "    avg_loss = train_one_epoch(epoch_number, writer, epoch)\n",
    "\n",
    "    # We don't need gradients on to do reporting\n",
    "    model.train(False)\n",
    "\n",
    "    running_vloss = 0.0\n",
    "    for i, vdata in enumerate(validation_loader):\n",
    "        vinputs, vlabels = vdata\n",
    "        voutputs = model(vinputs)\n",
    "        vloss = loss_fn(voutputs, vlabels)\n",
    "        running_vloss += vloss\n",
    "\n",
    "    avg_vloss = running_vloss / (i + 1)\n",
    "    print('LOSS train {} valid {}'.format(avg_loss, avg_vloss))\n",
    "\n",
    "    # Log the running loss averaged per batch\n",
    "    # for both training and validation\n",
    "    writer.add_scalars('Training vs. Validation Loss',\n",
    "                    { 'Training' : avg_loss, 'Validation' : avg_vloss },\n",
    "                    epoch_number + 1)\n",
    "    writer.flush()\n",
    "\n",
    "    # Track best performance, and save the model's state\n",
    "    if avg_vloss < best_vloss:\n",
    "        best_vloss = avg_vloss\n",
    "        model_path = 'model_{}_{}'.format(timestamp, epoch_number)\n",
    "        torch.save(model.state_dict(), model_path)\n",
    "\n",
    "    epoch_number += 1"
   ]
  },
  {
   "cell_type": "code",
   "execution_count": null,
   "metadata": {},
   "outputs": [],
   "source": [
    "writer.add_graph(model, images)"
   ]
  },
  {
   "cell_type": "code",
   "execution_count": null,
   "metadata": {},
   "outputs": [],
   "source": [
    "dataiter = iter(training_loader)\n",
    "images, labels = dataiter.next()\n",
    "\n",
    "# Create a grid from the images and show them\n",
    "img_grid = torchvision.utils.make_grid(images)\n",
    "matplotlib_imshow(img_grid, one_channel=True)\n",
    "writer.add_image('batch 1000 images', img_grid)"
   ]
  }
 ],
 "metadata": {
  "kernelspec": {
   "display_name": "Python 3.9.6 64-bit",
   "language": "python",
   "name": "python3"
  },
  "language_info": {
   "codemirror_mode": {
    "name": "ipython",
    "version": 3
   },
   "file_extension": ".py",
   "mimetype": "text/x-python",
   "name": "python",
   "nbconvert_exporter": "python",
   "pygments_lexer": "ipython3",
   "version": "3.9.6"
  },
  "orig_nbformat": 4,
  "vscode": {
   "interpreter": {
    "hash": "e09fac0f376c96f807b3a0871d4881028c2d7bbbf947b676612896d713ab3830"
   }
  }
 },
 "nbformat": 4,
 "nbformat_minor": 2
}
